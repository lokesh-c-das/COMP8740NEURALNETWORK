{
 "cells": [
  {
   "cell_type": "code",
   "execution_count": 1,
   "id": "1fcc01e0",
   "metadata": {},
   "outputs": [],
   "source": [
    "import tensorflow as tf\n",
    "import numpy as np\n",
    "import pandas as pd\n",
    "from tensorflow import keras\n",
    "from matplotlib import pyplot as plt\n",
    "from tensorflow.keras.datasets import cifar10\n",
    "from tensorflow.keras.utils import to_categorical\n",
    "from tensorflow.keras.models import Sequential\n",
    "from tensorflow.keras.layers import Conv2D,MaxPooling2D, Dense,Flatten,Dropout, BatchNormalization,Activation\n",
    "from tensorflow.keras.optimizers import SGD, Adam, RMSprop\n",
    "from tensorflow.keras.preprocessing.image import ImageDataGenerator\n",
    "import os\n",
    "import cv2"
   ]
  },
  {
   "cell_type": "markdown",
   "id": "59baf62b",
   "metadata": {},
   "source": [
    "# Load dataset and Create Training and testing sets"
   ]
  },
  {
   "cell_type": "code",
   "execution_count": 2,
   "id": "346499bf",
   "metadata": {},
   "outputs": [],
   "source": [
    "\n",
    "DATASET_PATH = 'Datasets/15-Scene/15-Scene/'\n",
    "directories = os.listdir(DATASET_PATH)\n",
    "ONE_HOT_ENCODED = np.eye(len(directories))\n",
    "FEATURES = []\n",
    "LABELS = []\n",
    "for category in sorted(directories):\n",
    "    path = DATASET_PATH+category\n",
    "    files = os.listdir(path)\n",
    "    for fileName in files:\n",
    "        imgPath = path+\"/\"+fileName\n",
    "        img = cv2.imread(imgPath)\n",
    "        img = cv2.resize(img, (32,32))\n",
    "        #img = np.reshape(img,[32,32,3])\n",
    "        FEATURES.append(img)\n",
    "        LABELS.append((np.reshape(ONE_HOT_ENCODED[int(category)], [15])))\n"
   ]
  },
  {
   "cell_type": "code",
   "execution_count": 3,
   "id": "d16f4a96",
   "metadata": {},
   "outputs": [],
   "source": [
    "# Randomly shuffle the datasets\n",
    "shuffle_indices = np.random.permutation(len(FEATURES))\n",
    "FEATURES = np.array(FEATURES)\n",
    "LABELS = np.array(LABELS)\n",
    "FEATURES = FEATURES[shuffle_indices]\n",
    "LABELS = LABELS[shuffle_indices]"
   ]
  },
  {
   "cell_type": "code",
   "execution_count": 4,
   "id": "f205c08e",
   "metadata": {},
   "outputs": [
    {
     "name": "stdout",
     "output_type": "stream",
     "text": [
      "(3139, 32, 32, 3)\n"
     ]
    }
   ],
   "source": [
    "TEST_PERCENTAGE = 0.3 # 30% for testing and 70% for training\n",
    "train_X = FEATURES[:int(len(FEATURES)*(1-TEST_PERCENTAGE))]\n",
    "train_y = LABELS[:int(len(LABELS)*(1-TEST_PERCENTAGE))]\n",
    "print(train_X.shape)"
   ]
  },
  {
   "cell_type": "code",
   "execution_count": 5,
   "id": "ec8a3ff1",
   "metadata": {},
   "outputs": [
    {
     "name": "stdout",
     "output_type": "stream",
     "text": [
      "(1346, 32, 32, 3)\n"
     ]
    }
   ],
   "source": [
    "test_X = FEATURES[int(len(FEATURES)*(1-TEST_PERCENTAGE)):]\n",
    "test_y = LABELS[int(len(LABELS)*(1-TEST_PERCENTAGE)):]\n",
    "print(test_X.shape)"
   ]
  },
  {
   "cell_type": "markdown",
   "id": "0bb044ec",
   "metadata": {},
   "source": [
    "# Define Hyperparameters"
   ]
  },
  {
   "cell_type": "code",
   "execution_count": 6,
   "id": "c248b442",
   "metadata": {},
   "outputs": [],
   "source": [
    "isAugmentation = True\n",
    "activation='elu'\n",
    "batch_size = 64\n",
    "epochs = 150\n",
    "num_classes = 15\n",
    "INITIALIZER = tf.keras.initializers.HeNormal()\n",
    "SAVE_DIR = os.path.join(os.getcwd(),'models')\n",
    "MODEL_NAME='ASSIGNMENT_2_PART_2.h5'"
   ]
  },
  {
   "cell_type": "markdown",
   "id": "20c71b19",
   "metadata": {},
   "source": [
    "# Data preprocessing and augmentation"
   ]
  },
  {
   "cell_type": "code",
   "execution_count": 7,
   "id": "44399d31",
   "metadata": {},
   "outputs": [],
   "source": [
    "train_X = train_X.astype('float32')\n",
    "train_y = train_y.astype('float32')\n",
    "test_X = test_X.astype('float32')\n",
    "test_y = test_y.astype('float32')\n",
    "train_X /= 255.0\n",
    "test_X /= 255.0"
   ]
  },
  {
   "cell_type": "code",
   "execution_count": 8,
   "id": "f384f8b9",
   "metadata": {},
   "outputs": [],
   "source": [
    "def dataAugmentation(isAugmentation=False):\n",
    "    if not isAugmentation:\n",
    "        return None\n",
    "    else:\n",
    "        dataGenerator =  ImageDataGenerator(\n",
    "        featurewise_center=False,  # set input mean to 0 over the dataset\n",
    "        samplewise_center=False,  # set each sample mean to 0\n",
    "        featurewise_std_normalization=False,  # divide inputs by std of the dataset\n",
    "        samplewise_std_normalization=False,  # divide each input by its std\n",
    "        zca_whitening=False,  # apply ZCA whitening\n",
    "        zca_epsilon=1e-06,  # epsilon for ZCA whitening\n",
    "        rotation_range=0,  # randomly rotate images in the range (degrees, 0 to 180)\n",
    "        # randomly shift images horizontally (fraction of total width)\n",
    "        width_shift_range=0.1,\n",
    "        # randomly shift images vertically (fraction of total height)\n",
    "        height_shift_range=0.1,\n",
    "        shear_range=0.,  # set range for random shear\n",
    "        zoom_range=0.,  # set range for random zoom\n",
    "        channel_shift_range=0.,  # set range for random channel shifts\n",
    "        # set mode for filling points outside the input boundaries\n",
    "        fill_mode='nearest',\n",
    "        cval=0.,  # value used for fill_mode = \"constant\"\n",
    "        horizontal_flip=True,  # randomly flip images\n",
    "        vertical_flip=False,  # randomly flip images\n",
    "        # set rescaling factor (applied before any other transformation)\n",
    "        rescale=None,\n",
    "        # set function that will be applied on each input\n",
    "        preprocessing_function=None,\n",
    "        # image data format, either \"channels_first\" or \"channels_last\"\n",
    "        data_format=None,\n",
    "        # fraction of images reserved for validation (strictly between 0 and 1)\n",
    "        validation_split=0.0)\n",
    "        return dataGenerator\n",
    "        "
   ]
  },
  {
   "cell_type": "markdown",
   "id": "0369aa7c",
   "metadata": {},
   "source": [
    "# Define Model"
   ]
  },
  {
   "cell_type": "code",
   "execution_count": 20,
   "id": "0b457287",
   "metadata": {},
   "outputs": [],
   "source": [
    "model = Sequential()\n",
    "model.add(Conv2D(64, (3, 3), activation='elu',padding='same',kernel_initializer=INITIALIZER, input_shape=(32, 32, 3)))\n",
    "model.add(BatchNormalization())\n",
    "#model.add(Conv2D(32,(3,3),activation='elu'))\n",
    "#model.add(BatchNormalization())\n",
    "model.add(MaxPooling2D((2, 2)))\n",
    "#model.add(BatchNormalization())\n",
    "model.add(Dropout(0.1))\n",
    "model.add(Conv2D(128, (3, 3), activation='elu',padding='same'))\n",
    "model.add(BatchNormalization())\n",
    "#model.add(Conv2D(64, (3, 3), activation='elu'))\n",
    "#model.add(BatchNormalization())\n",
    "model.add(MaxPooling2D((2, 2)))\n",
    "model.add(Dropout(0.1))\n",
    "\n",
    "model.add(Conv2D(64, (3, 3), activation='elu',padding='same'))\n",
    "model.add(BatchNormalization())\n",
    "#model.add(Conv2D(64, (3, 3), activation='elu'))\n",
    "#model.add(BatchNormalization())\n",
    "model.add(MaxPooling2D((2, 2)))\n",
    "model.add(Dropout(0.1))\n",
    "\n",
    "model.add(Flatten())\n",
    "model.add(Dense(512,activation='relu'))\n",
    "model.add(BatchNormalization())\n",
    "model.add(Dropout(0.4))\n",
    "model.add(Dense(15,activation='softmax'))"
   ]
  },
  {
   "cell_type": "code",
   "execution_count": 21,
   "id": "8941c86b",
   "metadata": {},
   "outputs": [
    {
     "data": {
      "text/plain": [
       "(32, 32, 3)"
      ]
     },
     "execution_count": 21,
     "metadata": {},
     "output_type": "execute_result"
    }
   ],
   "source": [
    "train_X.shape[1:]"
   ]
  },
  {
   "cell_type": "markdown",
   "id": "3cc3c251",
   "metadata": {},
   "source": [
    "# Define Optimizer"
   ]
  },
  {
   "cell_type": "code",
   "execution_count": 31,
   "id": "0ef3d7ed",
   "metadata": {},
   "outputs": [],
   "source": [
    "opt = tf.keras.optimizers.SGD(learning_rate=0.005)"
   ]
  },
  {
   "cell_type": "code",
   "execution_count": 32,
   "id": "791db7d8",
   "metadata": {},
   "outputs": [],
   "source": [
    "model.compile(loss='categorical_crossentropy', optimizer=opt, metrics=['accuracy'])"
   ]
  },
  {
   "cell_type": "code",
   "execution_count": 33,
   "id": "a3c53966",
   "metadata": {},
   "outputs": [],
   "source": [
    "dataGenerator = dataAugmentation(True)"
   ]
  },
  {
   "cell_type": "code",
   "execution_count": 34,
   "id": "64d6a00e",
   "metadata": {
    "scrolled": false
   },
   "outputs": [
    {
     "name": "stdout",
     "output_type": "stream",
     "text": [
      "Epoch 1/150\n",
      "50/50 [==============================] - 21s 396ms/step - loss: 1.5000 - accuracy: 0.5116 - val_loss: 2.5158 - val_accuracy: 0.3603\n",
      "Epoch 2/150\n",
      "50/50 [==============================] - 20s 391ms/step - loss: 1.4242 - accuracy: 0.5527 - val_loss: 1.2751 - val_accuracy: 0.5684\n",
      "Epoch 3/150\n",
      "50/50 [==============================] - 20s 393ms/step - loss: 1.3783 - accuracy: 0.5543 - val_loss: 1.4416 - val_accuracy: 0.5416\n",
      "Epoch 4/150\n",
      "50/50 [==============================] - 19s 389ms/step - loss: 1.3598 - accuracy: 0.5486 - val_loss: 2.0091 - val_accuracy: 0.4309\n",
      "Epoch 5/150\n",
      "50/50 [==============================] - 19s 388ms/step - loss: 1.3214 - accuracy: 0.5779 - val_loss: 1.4951 - val_accuracy: 0.5520\n",
      "Epoch 6/150\n",
      "50/50 [==============================] - 20s 392ms/step - loss: 1.3816 - accuracy: 0.5553 - val_loss: 3.2497 - val_accuracy: 0.3091\n",
      "Epoch 7/150\n",
      "50/50 [==============================] - 20s 395ms/step - loss: 1.3049 - accuracy: 0.5687 - val_loss: 1.5362 - val_accuracy: 0.5193\n",
      "Epoch 8/150\n",
      "50/50 [==============================] - 20s 402ms/step - loss: 1.2732 - accuracy: 0.5894 - val_loss: 2.4654 - val_accuracy: 0.3730\n",
      "Epoch 9/150\n",
      "50/50 [==============================] - 20s 391ms/step - loss: 1.2962 - accuracy: 0.5734 - val_loss: 1.8795 - val_accuracy: 0.4666\n",
      "Epoch 10/150\n",
      "50/50 [==============================] - 20s 394ms/step - loss: 1.2542 - accuracy: 0.5804 - val_loss: 1.5401 - val_accuracy: 0.5349\n",
      "Epoch 11/150\n",
      "50/50 [==============================] - 20s 396ms/step - loss: 1.2872 - accuracy: 0.5808 - val_loss: 2.0842 - val_accuracy: 0.4376\n",
      "Epoch 12/150\n",
      "50/50 [==============================] - 20s 393ms/step - loss: 1.2281 - accuracy: 0.6005 - val_loss: 1.3956 - val_accuracy: 0.5646\n",
      "Epoch 13/150\n",
      "50/50 [==============================] - 20s 396ms/step - loss: 1.2990 - accuracy: 0.5910 - val_loss: 3.1120 - val_accuracy: 0.3239\n",
      "Epoch 14/150\n",
      "50/50 [==============================] - 20s 406ms/step - loss: 1.2231 - accuracy: 0.5960 - val_loss: 1.4046 - val_accuracy: 0.5594\n",
      "Epoch 15/150\n",
      "50/50 [==============================] - 20s 404ms/step - loss: 1.2164 - accuracy: 0.5986 - val_loss: 1.7084 - val_accuracy: 0.4978\n",
      "Epoch 16/150\n",
      "50/50 [==============================] - 20s 393ms/step - loss: 1.2284 - accuracy: 0.5973 - val_loss: 2.0000 - val_accuracy: 0.4614\n",
      "Epoch 17/150\n",
      "50/50 [==============================] - 20s 390ms/step - loss: 1.2051 - accuracy: 0.6040 - val_loss: 1.2320 - val_accuracy: 0.5981\n",
      "Epoch 18/150\n",
      "50/50 [==============================] - 19s 389ms/step - loss: 1.2258 - accuracy: 0.5980 - val_loss: 1.3637 - val_accuracy: 0.5773\n",
      "Epoch 19/150\n",
      "50/50 [==============================] - 20s 400ms/step - loss: 1.2167 - accuracy: 0.6097 - val_loss: 1.5859 - val_accuracy: 0.5267\n",
      "Epoch 20/150\n",
      "50/50 [==============================] - 20s 390ms/step - loss: 1.1891 - accuracy: 0.6120 - val_loss: 1.2593 - val_accuracy: 0.6085\n",
      "Epoch 21/150\n",
      "50/50 [==============================] - 19s 390ms/step - loss: 1.1881 - accuracy: 0.6034 - val_loss: 1.2119 - val_accuracy: 0.6070\n",
      "Epoch 22/150\n",
      "50/50 [==============================] - 20s 390ms/step - loss: 1.1935 - accuracy: 0.6075 - val_loss: 1.0627 - val_accuracy: 0.6441\n",
      "Epoch 23/150\n",
      "50/50 [==============================] - 20s 393ms/step - loss: 1.1653 - accuracy: 0.6183 - val_loss: 1.2653 - val_accuracy: 0.5958\n",
      "Epoch 24/150\n",
      "50/50 [==============================] - 19s 389ms/step - loss: 1.1769 - accuracy: 0.6005 - val_loss: 1.3176 - val_accuracy: 0.5847\n",
      "Epoch 25/150\n",
      "50/50 [==============================] - 20s 399ms/step - loss: 1.1442 - accuracy: 0.6209 - val_loss: 1.4364 - val_accuracy: 0.5594\n",
      "Epoch 26/150\n",
      "50/50 [==============================] - 20s 390ms/step - loss: 1.1479 - accuracy: 0.6199 - val_loss: 1.2629 - val_accuracy: 0.5988\n",
      "Epoch 27/150\n",
      "50/50 [==============================] - 20s 390ms/step - loss: 1.1348 - accuracy: 0.6247 - val_loss: 1.4217 - val_accuracy: 0.5728\n",
      "Epoch 28/150\n",
      "50/50 [==============================] - 20s 402ms/step - loss: 1.1542 - accuracy: 0.6177 - val_loss: 2.1890 - val_accuracy: 0.4421\n",
      "Epoch 29/150\n",
      "50/50 [==============================] - 20s 398ms/step - loss: 1.1508 - accuracy: 0.6126 - val_loss: 1.5317 - val_accuracy: 0.5371\n",
      "Epoch 30/150\n",
      "50/50 [==============================] - 20s 398ms/step - loss: 1.1692 - accuracy: 0.6203 - val_loss: 1.2157 - val_accuracy: 0.6085\n",
      "Epoch 31/150\n",
      "50/50 [==============================] - 20s 398ms/step - loss: 1.1302 - accuracy: 0.6190 - val_loss: 1.2847 - val_accuracy: 0.5951\n",
      "Epoch 32/150\n",
      "50/50 [==============================] - 20s 396ms/step - loss: 1.1169 - accuracy: 0.6247 - val_loss: 1.1616 - val_accuracy: 0.6107\n",
      "Epoch 33/150\n",
      "50/50 [==============================] - 20s 398ms/step - loss: 1.1160 - accuracy: 0.6244 - val_loss: 1.2541 - val_accuracy: 0.6010\n",
      "Epoch 34/150\n",
      "50/50 [==============================] - 20s 400ms/step - loss: 1.1168 - accuracy: 0.6228 - val_loss: 1.2000 - val_accuracy: 0.6100\n",
      "Epoch 35/150\n",
      "50/50 [==============================] - 20s 393ms/step - loss: 1.1057 - accuracy: 0.6311 - val_loss: 1.4100 - val_accuracy: 0.5765\n",
      "Epoch 36/150\n",
      "50/50 [==============================] - 20s 391ms/step - loss: 1.1112 - accuracy: 0.6346 - val_loss: 10.3679 - val_accuracy: 0.1820\n",
      "Epoch 37/150\n",
      "50/50 [==============================] - 20s 396ms/step - loss: 1.1284 - accuracy: 0.6164 - val_loss: 1.1212 - val_accuracy: 0.6300\n",
      "Epoch 38/150\n",
      "50/50 [==============================] - 20s 391ms/step - loss: 1.1161 - accuracy: 0.6193 - val_loss: 1.3659 - val_accuracy: 0.5750\n",
      "Epoch 39/150\n",
      "50/50 [==============================] - 20s 391ms/step - loss: 1.1172 - accuracy: 0.6336 - val_loss: 1.2444 - val_accuracy: 0.5847\n",
      "Epoch 40/150\n",
      "50/50 [==============================] - 20s 393ms/step - loss: 1.0688 - accuracy: 0.6445 - val_loss: 1.9916 - val_accuracy: 0.4844\n",
      "Epoch 41/150\n",
      "50/50 [==============================] - 20s 392ms/step - loss: 1.0665 - accuracy: 0.6435 - val_loss: 1.3853 - val_accuracy: 0.5691\n",
      "Epoch 42/150\n",
      "50/50 [==============================] - 19s 390ms/step - loss: 1.0934 - accuracy: 0.6317 - val_loss: 1.5886 - val_accuracy: 0.5334\n",
      "Epoch 43/150\n",
      "50/50 [==============================] - 20s 395ms/step - loss: 1.0825 - accuracy: 0.6435 - val_loss: 1.4147 - val_accuracy: 0.5587\n",
      "Epoch 44/150\n",
      "50/50 [==============================] - 20s 391ms/step - loss: 1.0644 - accuracy: 0.6397 - val_loss: 1.4993 - val_accuracy: 0.5505\n",
      "Epoch 45/150\n",
      "50/50 [==============================] - 20s 402ms/step - loss: 1.0652 - accuracy: 0.6416 - val_loss: 2.1321 - val_accuracy: 0.4428\n",
      "Epoch 46/150\n",
      "50/50 [==============================] - 20s 398ms/step - loss: 1.0936 - accuracy: 0.6352 - val_loss: 1.2436 - val_accuracy: 0.6048\n",
      "Epoch 47/150\n",
      "50/50 [==============================] - 20s 393ms/step - loss: 1.0506 - accuracy: 0.6531 - val_loss: 1.0234 - val_accuracy: 0.6634\n",
      "Epoch 48/150\n",
      "50/50 [==============================] - 20s 393ms/step - loss: 1.0570 - accuracy: 0.6477 - val_loss: 1.1505 - val_accuracy: 0.6218\n",
      "Epoch 49/150\n",
      "50/50 [==============================] - 20s 404ms/step - loss: 1.0603 - accuracy: 0.6426 - val_loss: 1.2024 - val_accuracy: 0.6181\n",
      "Epoch 50/150\n",
      "50/50 [==============================] - 20s 396ms/step - loss: 1.0611 - accuracy: 0.6432 - val_loss: 2.1285 - val_accuracy: 0.4532\n",
      "Epoch 51/150\n",
      "50/50 [==============================] - 20s 390ms/step - loss: 1.0181 - accuracy: 0.6502 - val_loss: 1.0995 - val_accuracy: 0.6456\n",
      "Epoch 52/150\n",
      "50/50 [==============================] - 20s 406ms/step - loss: 1.1614 - accuracy: 0.6190 - val_loss: 1.7004 - val_accuracy: 0.5126\n",
      "Epoch 53/150\n",
      "50/50 [==============================] - 21s 424ms/step - loss: 1.0451 - accuracy: 0.6515 - val_loss: 1.3229 - val_accuracy: 0.5892\n",
      "Epoch 54/150\n",
      "50/50 [==============================] - 19s 388ms/step - loss: 1.0498 - accuracy: 0.6422 - val_loss: 1.2811 - val_accuracy: 0.5936\n",
      "Epoch 55/150\n",
      "50/50 [==============================] - 20s 392ms/step - loss: 1.0393 - accuracy: 0.6547 - val_loss: 1.2597 - val_accuracy: 0.5929\n",
      "Epoch 56/150\n",
      "50/50 [==============================] - 19s 386ms/step - loss: 1.0606 - accuracy: 0.6384 - val_loss: 1.1979 - val_accuracy: 0.6062\n",
      "Epoch 57/150\n"
     ]
    },
    {
     "name": "stdout",
     "output_type": "stream",
     "text": [
      "50/50 [==============================] - 19s 387ms/step - loss: 1.0801 - accuracy: 0.6432 - val_loss: 1.7451 - val_accuracy: 0.5015\n",
      "Epoch 58/150\n",
      "50/50 [==============================] - 19s 386ms/step - loss: 1.0103 - accuracy: 0.6604 - val_loss: 1.1369 - val_accuracy: 0.6434\n",
      "Epoch 59/150\n",
      "50/50 [==============================] - 19s 389ms/step - loss: 1.1392 - accuracy: 0.6266 - val_loss: 1.0863 - val_accuracy: 0.6486\n",
      "Epoch 60/150\n",
      "50/50 [==============================] - 20s 392ms/step - loss: 1.0600 - accuracy: 0.6489 - val_loss: 1.2657 - val_accuracy: 0.5958\n",
      "Epoch 61/150\n",
      "50/50 [==============================] - 20s 398ms/step - loss: 1.0293 - accuracy: 0.6508 - val_loss: 1.0837 - val_accuracy: 0.6516\n",
      "Epoch 62/150\n",
      "50/50 [==============================] - 21s 422ms/step - loss: 1.0284 - accuracy: 0.6579 - val_loss: 1.3222 - val_accuracy: 0.5736\n",
      "Epoch 63/150\n",
      "50/50 [==============================] - 24s 472ms/step - loss: 1.0241 - accuracy: 0.6496 - val_loss: 1.2010 - val_accuracy: 0.6204\n",
      "Epoch 64/150\n",
      "50/50 [==============================] - 26s 509ms/step - loss: 1.0517 - accuracy: 0.6480 - val_loss: 1.2002 - val_accuracy: 0.6166\n",
      "Epoch 65/150\n",
      "50/50 [==============================] - 19s 381ms/step - loss: 1.0309 - accuracy: 0.6493 - val_loss: 1.1293 - val_accuracy: 0.6389\n",
      "Epoch 66/150\n",
      "50/50 [==============================] - 19s 383ms/step - loss: 0.9901 - accuracy: 0.6633 - val_loss: 1.1398 - val_accuracy: 0.6293\n",
      "Epoch 67/150\n",
      "50/50 [==============================] - 19s 386ms/step - loss: 1.0331 - accuracy: 0.6626 - val_loss: 1.3714 - val_accuracy: 0.5914\n",
      "Epoch 68/150\n",
      "50/50 [==============================] - 19s 379ms/step - loss: 1.0342 - accuracy: 0.6563 - val_loss: 1.0506 - val_accuracy: 0.6605\n",
      "Epoch 69/150\n",
      "50/50 [==============================] - 19s 380ms/step - loss: 0.9942 - accuracy: 0.6731 - val_loss: 1.0353 - val_accuracy: 0.6634\n",
      "Epoch 70/150\n",
      "50/50 [==============================] - 19s 380ms/step - loss: 0.9937 - accuracy: 0.6658 - val_loss: 1.1372 - val_accuracy: 0.6397\n",
      "Epoch 71/150\n",
      "50/50 [==============================] - 19s 383ms/step - loss: 0.9555 - accuracy: 0.6760 - val_loss: 1.0750 - val_accuracy: 0.6501\n",
      "Epoch 72/150\n",
      "50/50 [==============================] - 19s 382ms/step - loss: 0.9778 - accuracy: 0.6808 - val_loss: 0.9879 - val_accuracy: 0.6686\n",
      "Epoch 73/150\n",
      "50/50 [==============================] - 20s 400ms/step - loss: 1.0006 - accuracy: 0.6550 - val_loss: 1.0106 - val_accuracy: 0.6679\n",
      "Epoch 74/150\n",
      "50/50 [==============================] - 21s 416ms/step - loss: 0.9904 - accuracy: 0.6671 - val_loss: 1.3457 - val_accuracy: 0.5832\n",
      "Epoch 75/150\n",
      "50/50 [==============================] - 29s 585ms/step - loss: 0.9757 - accuracy: 0.6846 - val_loss: 1.0536 - val_accuracy: 0.6612\n",
      "Epoch 76/150\n",
      "50/50 [==============================] - 26s 513ms/step - loss: 0.9812 - accuracy: 0.6649 - val_loss: 1.1626 - val_accuracy: 0.6315\n",
      "Epoch 77/150\n",
      "50/50 [==============================] - 19s 382ms/step - loss: 0.9581 - accuracy: 0.6633 - val_loss: 1.3097 - val_accuracy: 0.5958\n",
      "Epoch 78/150\n",
      "50/50 [==============================] - 19s 383ms/step - loss: 0.9659 - accuracy: 0.6735 - val_loss: 0.9443 - val_accuracy: 0.6880\n",
      "Epoch 79/150\n",
      "50/50 [==============================] - 19s 382ms/step - loss: 0.9911 - accuracy: 0.6671 - val_loss: 1.1009 - val_accuracy: 0.6367\n",
      "Epoch 80/150\n",
      "50/50 [==============================] - 19s 381ms/step - loss: 0.9619 - accuracy: 0.6735 - val_loss: 1.3121 - val_accuracy: 0.5944\n",
      "Epoch 81/150\n",
      "50/50 [==============================] - 19s 382ms/step - loss: 0.9611 - accuracy: 0.6741 - val_loss: 1.0761 - val_accuracy: 0.6493\n",
      "Epoch 82/150\n",
      "50/50 [==============================] - 20s 391ms/step - loss: 0.9645 - accuracy: 0.6773 - val_loss: 0.9833 - val_accuracy: 0.6798\n",
      "Epoch 83/150\n",
      "50/50 [==============================] - 19s 387ms/step - loss: 0.9420 - accuracy: 0.6853 - val_loss: 1.3860 - val_accuracy: 0.5780\n",
      "Epoch 84/150\n",
      "50/50 [==============================] - 19s 386ms/step - loss: 0.9808 - accuracy: 0.6633 - val_loss: 1.4047 - val_accuracy: 0.5721\n",
      "Epoch 85/150\n",
      "50/50 [==============================] - 19s 386ms/step - loss: 0.9914 - accuracy: 0.6620 - val_loss: 1.4234 - val_accuracy: 0.5587\n",
      "Epoch 86/150\n",
      "50/50 [==============================] - 19s 378ms/step - loss: 0.9393 - accuracy: 0.6786 - val_loss: 1.0759 - val_accuracy: 0.6530\n",
      "Epoch 87/150\n",
      "50/50 [==============================] - 19s 379ms/step - loss: 0.9682 - accuracy: 0.6684 - val_loss: 1.0212 - val_accuracy: 0.6731\n",
      "Epoch 88/150\n",
      "50/50 [==============================] - 19s 378ms/step - loss: 0.9376 - accuracy: 0.6875 - val_loss: 1.1451 - val_accuracy: 0.6308\n",
      "Epoch 89/150\n",
      "50/50 [==============================] - 19s 387ms/step - loss: 0.9553 - accuracy: 0.6757 - val_loss: 1.7449 - val_accuracy: 0.5119\n",
      "Epoch 90/150\n",
      "50/50 [==============================] - 19s 384ms/step - loss: 0.9287 - accuracy: 0.6907 - val_loss: 1.1832 - val_accuracy: 0.6159\n",
      "Epoch 91/150\n",
      "50/50 [==============================] - 19s 385ms/step - loss: 0.9377 - accuracy: 0.6837 - val_loss: 1.2002 - val_accuracy: 0.6204\n",
      "Epoch 92/150\n",
      "50/50 [==============================] - 19s 384ms/step - loss: 0.9523 - accuracy: 0.6817 - val_loss: 1.4632 - val_accuracy: 0.5624\n",
      "Epoch 93/150\n",
      "50/50 [==============================] - 21s 420ms/step - loss: 1.0438 - accuracy: 0.6623 - val_loss: 1.2170 - val_accuracy: 0.6300\n",
      "Epoch 94/150\n",
      "50/50 [==============================] - 19s 382ms/step - loss: 0.9452 - accuracy: 0.6817 - val_loss: 1.1164 - val_accuracy: 0.6360\n",
      "Epoch 95/150\n",
      "50/50 [==============================] - 20s 397ms/step - loss: 0.9339 - accuracy: 0.6821 - val_loss: 1.5006 - val_accuracy: 0.5594\n",
      "Epoch 96/150\n",
      "50/50 [==============================] - 23s 457ms/step - loss: 0.9068 - accuracy: 0.6970 - val_loss: 1.0016 - val_accuracy: 0.6731\n",
      "Epoch 97/150\n",
      "50/50 [==============================] - 22s 433ms/step - loss: 0.9156 - accuracy: 0.6907 - val_loss: 1.5471 - val_accuracy: 0.5490\n",
      "Epoch 98/150\n",
      "50/50 [==============================] - 20s 397ms/step - loss: 0.8968 - accuracy: 0.6910 - val_loss: 1.2965 - val_accuracy: 0.5981\n",
      "Epoch 99/150\n",
      "50/50 [==============================] - 19s 380ms/step - loss: 0.9032 - accuracy: 0.6986 - val_loss: 1.0671 - val_accuracy: 0.6553\n",
      "Epoch 100/150\n",
      "50/50 [==============================] - 19s 381ms/step - loss: 0.9157 - accuracy: 0.6900 - val_loss: 1.4432 - val_accuracy: 0.5602\n",
      "Epoch 101/150\n",
      "50/50 [==============================] - 19s 387ms/step - loss: 0.9140 - accuracy: 0.6903 - val_loss: 0.9860 - val_accuracy: 0.6753\n",
      "Epoch 102/150\n",
      "50/50 [==============================] - 19s 378ms/step - loss: 0.9192 - accuracy: 0.6843 - val_loss: 1.1377 - val_accuracy: 0.6293\n",
      "Epoch 103/150\n",
      "50/50 [==============================] - 19s 384ms/step - loss: 0.8832 - accuracy: 0.6964 - val_loss: 1.0396 - val_accuracy: 0.6575\n",
      "Epoch 104/150\n",
      "50/50 [==============================] - 19s 388ms/step - loss: 0.9171 - accuracy: 0.6856 - val_loss: 0.9590 - val_accuracy: 0.6798\n",
      "Epoch 105/150\n",
      "50/50 [==============================] - 19s 382ms/step - loss: 0.9245 - accuracy: 0.6888 - val_loss: 1.1220 - val_accuracy: 0.6478\n",
      "Epoch 106/150\n",
      "50/50 [==============================] - 19s 388ms/step - loss: 0.8757 - accuracy: 0.7009 - val_loss: 1.2409 - val_accuracy: 0.6092\n",
      "Epoch 107/150\n",
      "50/50 [==============================] - 20s 390ms/step - loss: 0.8670 - accuracy: 0.7056 - val_loss: 0.9473 - val_accuracy: 0.6768\n",
      "Epoch 108/150\n",
      "50/50 [==============================] - 19s 380ms/step - loss: 0.9095 - accuracy: 0.6859 - val_loss: 1.0157 - val_accuracy: 0.6679\n",
      "Epoch 109/150\n",
      "50/50 [==============================] - 19s 383ms/step - loss: 0.8992 - accuracy: 0.6939 - val_loss: 1.3382 - val_accuracy: 0.5899\n",
      "Epoch 110/150\n",
      "50/50 [==============================] - 19s 382ms/step - loss: 0.8765 - accuracy: 0.7044 - val_loss: 1.0710 - val_accuracy: 0.6478\n",
      "Epoch 111/150\n",
      "50/50 [==============================] - 21s 413ms/step - loss: 0.8757 - accuracy: 0.7066 - val_loss: 0.9603 - val_accuracy: 0.6880\n",
      "Epoch 112/150\n",
      "50/50 [==============================] - 20s 398ms/step - loss: 0.9020 - accuracy: 0.7012 - val_loss: 0.9980 - val_accuracy: 0.6724\n",
      "Epoch 113/150\n"
     ]
    },
    {
     "name": "stdout",
     "output_type": "stream",
     "text": [
      "50/50 [==============================] - 19s 387ms/step - loss: 0.8976 - accuracy: 0.6932 - val_loss: 1.0717 - val_accuracy: 0.6434\n",
      "Epoch 114/150\n",
      "50/50 [==============================] - 19s 383ms/step - loss: 0.9048 - accuracy: 0.6923 - val_loss: 1.2814 - val_accuracy: 0.5973\n",
      "Epoch 115/150\n",
      "50/50 [==============================] - 19s 389ms/step - loss: 0.8541 - accuracy: 0.7056 - val_loss: 1.2734 - val_accuracy: 0.6092\n",
      "Epoch 116/150\n",
      "50/50 [==============================] - 19s 385ms/step - loss: 0.8822 - accuracy: 0.6996 - val_loss: 0.9974 - val_accuracy: 0.6746\n",
      "Epoch 117/150\n",
      "50/50 [==============================] - 19s 385ms/step - loss: 0.8603 - accuracy: 0.7177 - val_loss: 1.0909 - val_accuracy: 0.6434\n",
      "Epoch 118/150\n",
      "50/50 [==============================] - 19s 383ms/step - loss: 0.8704 - accuracy: 0.7085 - val_loss: 0.9262 - val_accuracy: 0.6872\n",
      "Epoch 119/150\n",
      "50/50 [==============================] - 20s 396ms/step - loss: 0.8729 - accuracy: 0.7037 - val_loss: 0.9360 - val_accuracy: 0.6768\n",
      "Epoch 120/150\n",
      "50/50 [==============================] - 20s 401ms/step - loss: 0.8581 - accuracy: 0.7117 - val_loss: 0.9445 - val_accuracy: 0.6850\n",
      "Epoch 121/150\n",
      "50/50 [==============================] - 19s 394ms/step - loss: 0.8736 - accuracy: 0.7053 - val_loss: 1.0250 - val_accuracy: 0.6575\n",
      "Epoch 122/150\n",
      "50/50 [==============================] - 20s 399ms/step - loss: 0.8369 - accuracy: 0.7174 - val_loss: 0.8773 - val_accuracy: 0.7058\n",
      "Epoch 123/150\n",
      "50/50 [==============================] - 20s 395ms/step - loss: 0.8544 - accuracy: 0.7088 - val_loss: 1.2470 - val_accuracy: 0.6033\n",
      "Epoch 124/150\n",
      "50/50 [==============================] - 19s 387ms/step - loss: 0.8663 - accuracy: 0.6999 - val_loss: 0.9482 - val_accuracy: 0.6872\n",
      "Epoch 125/150\n",
      "50/50 [==============================] - 19s 385ms/step - loss: 0.9302 - accuracy: 0.6897 - val_loss: 1.0160 - val_accuracy: 0.6672\n",
      "Epoch 126/150\n",
      "50/50 [==============================] - 20s 391ms/step - loss: 0.8875 - accuracy: 0.6913 - val_loss: 1.2873 - val_accuracy: 0.5899\n",
      "Epoch 127/150\n",
      "50/50 [==============================] - 19s 389ms/step - loss: 0.8647 - accuracy: 0.6954 - val_loss: 1.1306 - val_accuracy: 0.6278\n",
      "Epoch 128/150\n",
      "50/50 [==============================] - 20s 393ms/step - loss: 0.8912 - accuracy: 0.6977 - val_loss: 1.0775 - val_accuracy: 0.6516\n",
      "Epoch 129/150\n",
      "50/50 [==============================] - 19s 386ms/step - loss: 0.8785 - accuracy: 0.7056 - val_loss: 0.9304 - val_accuracy: 0.6924\n",
      "Epoch 130/150\n",
      "50/50 [==============================] - 20s 397ms/step - loss: 0.8565 - accuracy: 0.7088 - val_loss: 1.8302 - val_accuracy: 0.5052\n",
      "Epoch 131/150\n",
      "50/50 [==============================] - 23s 465ms/step - loss: 0.9830 - accuracy: 0.6830 - val_loss: 1.3243 - val_accuracy: 0.6010\n",
      "Epoch 132/150\n",
      "50/50 [==============================] - 24s 479ms/step - loss: 0.8532 - accuracy: 0.7040 - val_loss: 0.9560 - val_accuracy: 0.6790\n",
      "Epoch 133/150\n",
      "50/50 [==============================] - 27s 543ms/step - loss: 0.8642 - accuracy: 0.7034 - val_loss: 1.0594 - val_accuracy: 0.6493\n",
      "Epoch 134/150\n",
      "50/50 [==============================] - 25s 489ms/step - loss: 0.8744 - accuracy: 0.6970 - val_loss: 0.9409 - val_accuracy: 0.6880\n",
      "Epoch 135/150\n",
      "50/50 [==============================] - 24s 485ms/step - loss: 0.8525 - accuracy: 0.7117 - val_loss: 0.9887 - val_accuracy: 0.6649\n",
      "Epoch 136/150\n",
      "50/50 [==============================] - 25s 500ms/step - loss: 0.8673 - accuracy: 0.7072 - val_loss: 0.9439 - val_accuracy: 0.6887\n",
      "Epoch 137/150\n",
      "50/50 [==============================] - 22s 445ms/step - loss: 0.8940 - accuracy: 0.6853 - val_loss: 0.9728 - val_accuracy: 0.6672\n",
      "Epoch 138/150\n",
      "50/50 [==============================] - 20s 402ms/step - loss: 0.8391 - accuracy: 0.7107 - val_loss: 0.9304 - val_accuracy: 0.6924\n",
      "Epoch 139/150\n",
      "50/50 [==============================] - 22s 443ms/step - loss: 0.8375 - accuracy: 0.7133 - val_loss: 1.0260 - val_accuracy: 0.6701\n",
      "Epoch 140/150\n",
      "50/50 [==============================] - 25s 490ms/step - loss: 0.8376 - accuracy: 0.7098 - val_loss: 0.9803 - val_accuracy: 0.6746\n",
      "Epoch 141/150\n",
      "50/50 [==============================] - 20s 397ms/step - loss: 0.8351 - accuracy: 0.7193 - val_loss: 0.9431 - val_accuracy: 0.6865\n",
      "Epoch 142/150\n",
      "50/50 [==============================] - 23s 453ms/step - loss: 0.8323 - accuracy: 0.7133 - val_loss: 1.1738 - val_accuracy: 0.6285\n",
      "Epoch 143/150\n",
      "50/50 [==============================] - 23s 463ms/step - loss: 0.8416 - accuracy: 0.7177 - val_loss: 0.9631 - val_accuracy: 0.6761\n",
      "Epoch 144/150\n",
      "50/50 [==============================] - 22s 434ms/step - loss: 0.8506 - accuracy: 0.7060 - val_loss: 1.1145 - val_accuracy: 0.6426\n",
      "Epoch 145/150\n",
      "50/50 [==============================] - 21s 414ms/step - loss: 0.8404 - accuracy: 0.7152 - val_loss: 0.9721 - val_accuracy: 0.6805\n",
      "Epoch 146/150\n",
      "50/50 [==============================] - 22s 436ms/step - loss: 0.8112 - accuracy: 0.7270 - val_loss: 0.8968 - val_accuracy: 0.6976\n",
      "Epoch 147/150\n",
      "50/50 [==============================] - 23s 453ms/step - loss: 0.8322 - accuracy: 0.7126 - val_loss: 0.9959 - val_accuracy: 0.6731\n",
      "Epoch 148/150\n",
      "50/50 [==============================] - 21s 424ms/step - loss: 0.8097 - accuracy: 0.7273 - val_loss: 1.0289 - val_accuracy: 0.6790\n",
      "Epoch 149/150\n",
      "50/50 [==============================] - 25s 504ms/step - loss: 0.7965 - accuracy: 0.7257 - val_loss: 1.0403 - val_accuracy: 0.6738\n",
      "Epoch 150/150\n",
      "50/50 [==============================] - 26s 521ms/step - loss: 0.7946 - accuracy: 0.7241 - val_loss: 0.9742 - val_accuracy: 0.6857\n"
     ]
    }
   ],
   "source": [
    "if dataGenerator is not None:\n",
    "    dataGenerator.fit(train_X)\n",
    "    history = model.fit(dataGenerator.flow(train_X, train_y,\n",
    "                                     batch_size=batch_size), epochs=epochs,\n",
    "                        validation_data=(test_X, test_y))\n",
    "else:\n",
    "    history = model.fit(train_X,train_y, batch_size=batch_size,epochs=epochs,validation_data=(test_X,test_y))"
   ]
  },
  {
   "cell_type": "code",
   "execution_count": 35,
   "id": "4f245472",
   "metadata": {},
   "outputs": [
    {
     "data": {
      "text/plain": [
       "<matplotlib.legend.Legend at 0x219266188e0>"
      ]
     },
     "execution_count": 35,
     "metadata": {},
     "output_type": "execute_result"
    },
    {
     "data": {
      "image/png": "[encoded data removed]",
      "text/plain": [
       "<Figure size 432x288 with 1 Axes>"
      ]
     },
     "metadata": {
      "needs_background": "light"
     },
     "output_type": "display_data"
    }
   ],
   "source": [
    "plt.plot(history.history['accuracy'], label='accuracy')\n",
    "plt.plot(history.history['val_accuracy'], label = 'val_accuracy')\n",
    "plt.xlabel('Epoch')\n",
    "plt.ylabel('Accuracy')\n",
    "plt.legend(loc='lower right')"
   ]
  },
  {
   "cell_type": "code",
   "execution_count": 36,
   "id": "c6cbe512",
   "metadata": {
    "scrolled": true
   },
   "outputs": [
    {
     "data": {
      "text/plain": [
       "<matplotlib.legend.Legend at 0x2192672a670>"
      ]
     },
     "execution_count": 36,
     "metadata": {},
     "output_type": "execute_result"
    },
    {
     "data": {
      "image/png": "[encoded data removed]",
      "text/plain": [
       "<Figure size 432x288 with 1 Axes>"
      ]
     },
     "metadata": {
      "needs_background": "light"
     },
     "output_type": "display_data"
    }
   ],
   "source": [
    "plt.plot(history.history['loss'], label='loss')\n",
    "plt.plot(history.history['val_loss'], label = 'val_loss')\n",
    "plt.xlabel('Epoch')\n",
    "plt.ylabel('loss')\n",
    "plt.legend(loc='upper right')"
   ]
  },
  {
   "cell_type": "code",
   "execution_count": null,
   "id": "3c99134c",
   "metadata": {},
   "outputs": [],
   "source": []
  }
 ],
 "metadata": {
  "kernelspec": {
   "display_name": "Python 3 (ipykernel)",
   "language": "python",
   "name": "python3"
  },
  "language_info": {
   "codemirror_mode": {
    "name": "ipython",
    "version": 3
   },
   "file_extension": ".py",
   "mimetype": "text/x-python",
   "name": "python",
   "nbconvert_exporter": "python",
   "pygments_lexer": "ipython3",
   "version": "3.9.1"
  }
 },
 "nbformat": 4,
 "nbformat_minor": 5
}
